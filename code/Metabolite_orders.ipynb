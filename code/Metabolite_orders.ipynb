{
 "cells": [
  {
   "cell_type": "code",
   "execution_count": 1,
   "metadata": {},
   "outputs": [
    {
     "name": "stdout",
     "output_type": "stream",
     "text": [
      "Downloading package metadata...\n",
      "Fragments already downloaded\n",
      "Downloading package metadata...\n",
      "Fragments already downloaded\n",
      "Using license file C:\\Users\\tinta\\gurobi.lic\n",
      "Academic license - for non-commercial use only\n",
      "Read LP format model from file C:\\Users\\tinta\\AppData\\Local\\Temp\\tmpuu4ikt7n.lp\n",
      "Reading time = 0.02 seconds\n",
      ": 1147 rows, 4276 columns, 17168 nonzeros\n"
     ]
    }
   ],
   "source": [
    "from gurobipy import GRB\n",
    "from importlib import reload\n",
    "import numpy as np\n",
    "import pandas as pd\n",
    "import matplotlib.pyplot as plt\n",
    "import seaborn as sns\n",
    "import parameters as par\n",
    "import data\n",
    "import model\n",
    "reload(par)\n",
    "\n",
    "# par = {\n",
    "#     'model': 'iML1515.json',\n",
    "#     'biomass_rxn_id': 'BIOMASS_Ec_iML1515_core_75p37M',\n",
    "#     'R': 8.3144598,\n",
    "#     'T': 310.15,\n",
    "#     'uptake_rate': 10,\n",
    "    \n",
    "    \n",
    "# }\n",
    "\n",
    "GEM = data.prepareGEM(path_to_GEM=f'{par.work_directory}/{par.model}',\n",
    "                      carbon_source=par.carbon_source,\n",
    "                      uptake_rate=par.uptake_rate,\n",
    "                      loopless=False,\n",
    "                      biomass_reaction_id=par.biomass_rxn_id)\n",
    "\n",
    "dG0_data = data.getFreeEnergyData(GEM,\n",
    "                                  work_directory=par.work_directory,\n",
    "                                  pH_i=par.pH_i,\n",
    "                                  Ionic_strength=par.Ionic_strength,\n",
    "                                  dG0_uncertainty_threshold=par.alpha)"
   ]
  },
  {
   "cell_type": "code",
   "execution_count": 2,
   "metadata": {},
   "outputs": [
    {
     "name": "stdout",
     "output_type": "stream",
     "text": [
      "Gurobi Optimizer version 9.0.1 build v9.0.1rc0 (win64)\n",
      "Optimize a model with 1147 rows, 2138 columns and 8584 nonzeros\n",
      "Model fingerprint: 0x30118131\n",
      "Coefficient statistics:\n",
      "  Matrix range     [2e-06, 8e+01]\n",
      "  Objective range  [1e+00, 1e+00]\n",
      "  Bounds range     [7e+00, 1e+03]\n",
      "  RHS range        [0e+00, 0e+00]\n",
      "Presolve removed 715 rows and 1186 columns\n",
      "Presolve time: 0.03s\n",
      "Presolved: 432 rows, 952 columns, 5170 nonzeros\n",
      "\n",
      "Iteration    Objective       Primal Inf.    Dual Inf.      Time\n",
      "       0    3.3096743e+02   1.671884e+04   0.000000e+00      0s\n",
      "Extra 83 simplex iterations after uncrush\n",
      "     966    8.7699721e-01   0.000000e+00   0.000000e+00      0s\n",
      "\n",
      "Solved in 966 iterations and 0.09 seconds\n",
      "Optimal objective  8.769972144e-01\n"
     ]
    }
   ],
   "source": [
    "reload(par)\n",
    "opt_model = model.optimizeGEM(GEM, par.biomass_rxn_id) # Loopless fva no biomass flux!"
   ]
  },
  {
   "cell_type": "code",
   "execution_count": 3,
   "metadata": {},
   "outputs": [],
   "source": [
    "# GEM.reactions.get_by_id('BIOMASS_Ec_iML1515_core_75p37M').lower_bound = 0\n",
    "# GEM.reactions.get_by_id('ATPM').lower_bound = 7"
   ]
  },
  {
   "cell_type": "code",
   "execution_count": 4,
   "metadata": {},
   "outputs": [
    {
     "data": {
      "text/plain": [
       "[['fru_c', 'D-Fructose'],\n",
       " ['fdp_c', 'D-Fructose 1,6-bisphosphate'],\n",
       " ['f6p_c', 'D-Fructose 6-phosphate']]"
      ]
     },
     "execution_count": 4,
     "metadata": {},
     "output_type": "execute_result"
    }
   ],
   "source": [
    "data.findMetaboliteByCommonName(GEM, 'fructose')"
   ]
  },
  {
   "cell_type": "code",
   "execution_count": 5,
   "metadata": {},
   "outputs": [
    {
     "name": "stdout",
     "output_type": "stream",
     "text": [
      "Maximum flux through biomass reaction: 0.8769959270024303 mmol.min^-1.gDW^-1\n"
     ]
    }
   ],
   "source": [
    "# Build gurobi TFBA model\n",
    "reload(par)\n",
    "m, variables = model.buildMILPModel(GEM, dG0_data)\n",
    "\n",
    "# Fix internal pH (change to mM)\n",
    "logx_h_c = variables['logx']['logx_h_c']\n",
    "logx_h_c.lb = np.log(10**(-(par.pH_i + par.delta_pH) + 3))\n",
    "logx_h_c.ub = np.log(10**(-(par.pH_i - par.delta_pH) + 3))\n",
    "\n",
    "# Upper bound to internal h2o (mM)\n",
    "logx_h2o_c = variables['logx']['logx_h2o_e']\n",
    "logx_h2o_c.ub = np.log(1e2) # mM\n",
    "\n",
    "# Upper bound to internal o2 (mM)\n",
    "logx_o2_c = variables['logx']['logx_o2_c']\n",
    "logx_o2_c.ub = np.log(par.maxo2) # mM\n",
    "\n",
    "# Fix concentration of some key metabolites (Bennet2009)\n",
    "# logx_atp_c = variables['logx']['logx_atp_c']\n",
    "# logx_atp_c.lb = np.log(8.13e-3 * 1000)\n",
    "# logx_atp_c.ub = np.log(1.14e-2 * 1000)\n",
    "\n",
    "# logx_adp_c = variables['logx']['logx_adp_c']\n",
    "# logx_adp_c.lb = np.log(4.37e-4 * 1000)\n",
    "# logx_adp_c.ub = np.log(7.04e-4 * 1000)\n",
    "\n",
    "# logx_accoa_c = variables['logx']['logx_accoa_c']\n",
    "# logx_accoa_c.lb = np.log(5.29e-4 * 1000)\n",
    "# logx_accoa_c.ub = np.log(6.94e-4 * 1000)\n",
    "\n",
    "# logx_ade_c = variables['logx']['logx_ade_c']\n",
    "# logx_ade_c.lb = np.log(1.26e-6 * 1000)\n",
    "# logx_ade_c.ub = np.log(1.71e-6 * 1000)\n",
    "\n",
    "# logx_fdp_c = variables['logx']['logx_fdp_c']\n",
    "# logx_fdp_c.lb = np.log(1.40e-2 * 1000)\n",
    "# logx_fdp_c.ub = np.log(1.64e-2 * 1000)\n",
    "\n",
    "logx_glu_e = variables['logx']['logx_glu__L_e']\n",
    "logx_glu_e.lb = np.log(20) # mM 22.2\n",
    "logx_glu_e.ub = np.log(23) # mM\n",
    "\n",
    "# Find biomass maximum under thermodynamic constraints and constraint biomass reaction\n",
    "m.setObjective(variables['v']['v_' + par.biomass_rxn_id], GRB.MAXIMIZE)\n",
    "m.update()\n",
    "m.setParam('OutputFlag', False)\n",
    "m.optimize()\n",
    "\n",
    "try:\n",
    "    print(f'Maximum flux through biomass reaction: {m.objval} mmol.min^-1.gDW^-1')\n",
    "    max_biomass_flux = m.getVarByName('v_' + par.biomass_rxn_id).x\n",
    "    m.getVarByName('v_' + par.biomass_rxn_id).lb = par.beta * max_biomass_flux\n",
    "except:\n",
    "    print('Model is infeasible!')"
   ]
  },
  {
   "cell_type": "code",
   "execution_count": 6,
   "metadata": {},
   "outputs": [
    {
     "name": "stdout",
     "output_type": "stream",
     "text": [
      "Total concentration of internal metabolites: 280.00000008335456 mM\n",
      "Total sum of x: 300.00000008335456\n",
      "Total sum of logx: -4154.776576952159\n"
     ]
    }
   ],
   "source": [
    "conc_sum = 0\n",
    "logx_sum = 0\n",
    "for var in m.getVars():\n",
    "    if 'x_' in var.varName[:2]:\n",
    "        conc_sum += var.x\n",
    "    if 'logx_' in var.varName:\n",
    "        logx_sum += var.x\n",
    "total_conc_internal_mets = conc_sum - m.getVarByName('x_glu__L_e').x\n",
    "print(f'Total concentration of internal metabolites: {total_conc_internal_mets} mM')\n",
    "print(f'Total sum of x: {conc_sum}')\n",
    "print(f'Total sum of logx: {logx_sum}')"
   ]
  },
  {
   "cell_type": "code",
   "execution_count": 7,
   "metadata": {},
   "outputs": [
    {
     "name": "stdout",
     "output_type": "stream",
     "text": [
      "[ATP] = 0.05027557478231102, [ADP] = 0.04999874918420217\n"
     ]
    }
   ],
   "source": [
    "print(f'[ATP] = {m.getVarByName(\"x_atp_c\").x}, [ADP] = {m.getVarByName(\"x_adp_c\").x}')"
   ]
  },
  {
   "cell_type": "code",
   "execution_count": 10,
   "metadata": {},
   "outputs": [
    {
     "name": "stdout",
     "output_type": "stream",
     "text": [
      "17214\n",
      "Current date and time : \n",
      "2020-03-28 22:32:42\n"
     ]
    }
   ],
   "source": [
    "# Find candidate ordered metabolite pairs\n",
    "reload(par)\n",
    "m.update()\n",
    "X_sample, candidatePairs, sampling_model = model.findCandidatePairs(m, n_samples=100)\n",
    "print(len(candidatePairs))\n",
    "\n",
    "import datetime\n",
    "now = datetime.datetime.now()\n",
    "print (\"Current date and time : \")\n",
    "print (now.strftime(\"%Y-%m-%d %H:%M:%S\"))"
   ]
  },
  {
   "cell_type": "code",
   "execution_count": 25,
   "metadata": {},
   "outputs": [],
   "source": [
    "import pickle\n",
    "\n",
    "def saveToPickleFile(python_object, path_to_file='object.pkl'):\n",
    "    \"\"\"\n",
    "    Save python object to pickle file\n",
    "    \"\"\"\n",
    "    out_file = open(path_to_file,'wb')\n",
    "    pickle.dump(python_object, out_file)\n",
    "    out_file.close()\n",
    "    \n",
    "def readFromPickleFile(path_to_file='object.pkl'):\n",
    "    \"\"\"\n",
    "    Load python object from pickle file.\n",
    "    Returns python object.\n",
    "    \"\"\"\n",
    "    in_file = open(path_to_file,'rb')\n",
    "    python_object = pickle.load(in_file)\n",
    "    return python_object"
   ]
  },
  {
   "cell_type": "code",
   "execution_count": 29,
   "metadata": {},
   "outputs": [],
   "source": [
    "saveToPickleFile(X_sample, path_to_file='X_sample.pkl')"
   ]
  },
  {
   "cell_type": "code",
   "execution_count": null,
   "metadata": {},
   "outputs": [],
   "source": [
    "np.array([sum([np.e**logx for logx in X_sample[:, i]]) for i in range(X_sample.shape[1])])"
   ]
  },
  {
   "cell_type": "code",
   "execution_count": 11,
   "metadata": {},
   "outputs": [
    {
     "name": "stdout",
     "output_type": "stream",
     "text": [
      "141\n"
     ]
    }
   ],
   "source": [
    "import pandas as pd\n",
    "systems_df = pd.read_excel(f'{par.work_directory}/iML1515_subsystems.xlsx')\n",
    "\n",
    "#     central_metabolism = ['Carbohydrate metabolism', 'Amino acid metabolism',\n",
    "#                      'Nucleotide metabolism', 'Lipid metabolism']\n",
    "central_metabolism = ['Carbohydrate metabolism']\n",
    "central_metabolites = data.findMetabolitesInPathways(GEM, systems_df,\n",
    "                                                central_metabolism)\n",
    "print(len(central_metabolites))"
   ]
  },
  {
   "cell_type": "code",
   "execution_count": 12,
   "metadata": {},
   "outputs": [
    {
     "data": {
      "text/plain": [
       "1204"
      ]
     },
     "execution_count": 12,
     "metadata": {},
     "output_type": "execute_result"
    }
   ],
   "source": [
    "centralCandidatePairs = []\n",
    "for pair in candidatePairs:\n",
    "    met_i, met_j = pair\n",
    "    if met_i in central_metabolites and met_j in central_metabolites:\n",
    "        centralCandidatePairs.append(pair)\n",
    "len(centralCandidatePairs)"
   ]
  },
  {
   "cell_type": "code",
   "execution_count": 14,
   "metadata": {},
   "outputs": [],
   "source": [
    "# Evaluate metabolite orders from candidate pairs\n",
    "ordered_pairs = model.findConcentrationOrderedPairs(sampling_model, centralCandidatePairs[:10])"
   ]
  },
  {
   "cell_type": "code",
   "execution_count": 97,
   "metadata": {},
   "outputs": [
    {
     "data": {
      "text/plain": [
       "[('dhap_c', 'h_c'),\n",
       " ('dhap_c', 'glyc3p_c'),\n",
       " ('dhap_c', 'nad_c'),\n",
       " ('dhap_c', 'g3p_c')]"
      ]
     },
     "execution_count": 97,
     "metadata": {},
     "output_type": "execute_result"
    }
   ],
   "source": [
    "ordered_pairs"
   ]
  },
  {
   "cell_type": "code",
   "execution_count": 15,
   "metadata": {},
   "outputs": [],
   "source": [
    "model.findConcentrationOrderedPairs(sampling_model, centralCandidatePairs[:2])"
   ]
  },
  {
   "cell_type": "code",
   "execution_count": 33,
   "metadata": {},
   "outputs": [
    {
     "data": {
      "text/plain": [
       "[]"
      ]
     },
     "execution_count": 33,
     "metadata": {},
     "output_type": "execute_result"
    },
    {
     "data": {
      "image/png": "[encoded data removed]",
      "text/plain": [
       "<Figure size 432x288 with 1 Axes>"
      ]
     },
     "metadata": {
      "needs_background": "light"
     },
     "output_type": "display_data"
    }
   ],
   "source": [
    "import matplotlib.pyplot as plt\n",
    "i, j = 354, 242\n",
    "plt.hist(np.e**(X_sample[i,:]))\n",
    "plt.title(f'Metabolite: {mets[i]}')\n",
    "plt.plot()"
   ]
  },
  {
   "cell_type": "code",
   "execution_count": 35,
   "metadata": {},
   "outputs": [
    {
     "data": {
      "text/plain": [
       "[]"
      ]
     },
     "execution_count": 35,
     "metadata": {},
     "output_type": "execute_result"
    },
    {
     "data": {
      "image/png": "[encoded data removed]",
      "text/plain": [
       "<Figure size 432x288 with 1 Axes>"
      ]
     },
     "metadata": {
      "needs_background": "light"
     },
     "output_type": "display_data"
    }
   ],
   "source": [
    "plt.hist(np.e**(X_sample[j,:]))\n",
    "plt.title(f'Metabolite: {mets[j]}')\n",
    "plt.plot()"
   ]
  },
  {
   "cell_type": "code",
   "execution_count": 147,
   "metadata": {},
   "outputs": [
    {
     "name": "stdout",
     "output_type": "stream",
     "text": [
      "sum_logx: -2850.6867946563325, sum_xlogx: -426.89378850911316\n"
     ]
    }
   ],
   "source": [
    "import numpy as np\n",
    "def generateRandomWithSum(n, sum_value=100):\n",
    "    x = np.random.rand(n)\n",
    "    return sum_value * (x / x.sum())\n",
    "    \n",
    "    \n",
    "x = generateRandomWithSum(1500, sum_value=300)\n",
    "logx = [np.log(x_i) for x_i in x]\n",
    "xlogx = [x_i * np.log(x_i) for x_i in x]\n",
    "print(f'sum_logx: {sum(logx)}, sum_xlogx: {sum(xlogx)}')"
   ]
  },
  {
   "cell_type": "code",
   "execution_count": 138,
   "metadata": {},
   "outputs": [
    {
     "name": "stdout",
     "output_type": "stream",
     "text": [
      "sum of x = 504.47217661461036\n",
      "sum logx_i = -32638.140094920727\n",
      "ratio sum_x/sum_logx = -0.015456523415472387\n"
     ]
    }
   ],
   "source": [
    "x_min, x_max = 1e-3, 1e-1\n",
    "x = (x_max - x_min) * np.random.rand(10000) + x_min\n",
    "print(f'sum of x = {x.sum()}')\n",
    "print(f'sum logx_i = {sum([np.log(xi) for xi in x])}')\n",
    "print(f'ratio sum_x/sum_logx = {x.sum() / sum([np.log(xi) for xi in x])}')"
   ]
  },
  {
   "cell_type": "code",
   "execution_count": 17,
   "metadata": {},
   "outputs": [
    {
     "name": "stdout",
     "output_type": "stream",
     "text": [
      "Minimum sum of metabolite concentrations: 0.0 mM\n"
     ]
    }
   ],
   "source": [
    "# Minimize sum_i (logx_i)\n",
    "obj_str = ''\n",
    "for var_id in variables['logx'].keys():\n",
    "    obj_str += 1 * f'variables[\"logx\"][\"{var_id}\"] +'\n",
    "obj_str = obj_str[:-1]\n",
    "m.setObjective(eval(obj_str), GRB.MINIMIZE)\n",
    "m.setParam('OutputFlag', False)\n",
    "m.update()\n",
    "m.optimize()\n",
    "try:\n",
    "    print(f'Minimum sum of metabolite concentrations: {np.e**m.objval} mM')\n",
    "except:\n",
    "    print('Model is infeasible!')"
   ]
  },
  {
   "cell_type": "code",
   "execution_count": 12,
   "metadata": {},
   "outputs": [
    {
     "data": {
      "text/plain": [
       "[('prbatp_c', 'nadp_c'), ('atp_c', 'nadp_c'), ('datp_c', 'nadp_c')]"
      ]
     },
     "execution_count": 12,
     "metadata": {},
     "output_type": "execute_result"
    }
   ],
   "source": [
    "[pair for pair in candidatePairs if 'atp_c' in pair[0] and 'adp_c' in pair[1]]"
   ]
  },
  {
   "cell_type": "code",
   "execution_count": 7,
   "metadata": {},
   "outputs": [],
   "source": [
    "for pair in candidatePairs:\n",
    "    if (pair[1] not in 'h_c' and\n",
    "       pair[0] not in 'glu__L_e'):\n",
    "        print(pair)"
   ]
  },
  {
   "cell_type": "code",
   "execution_count": 49,
   "metadata": {},
   "outputs": [
    {
     "name": "stdout",
     "output_type": "stream",
     "text": [
      "('5drib_c', 'ade_c')\n",
      "('btcoa_c', 'ade_c')\n",
      "('glu__L_e', 'accoa_c')\n",
      "('glu__L_e', 'o2_c')\n",
      "('glu__L_e', 'adp_c')\n",
      "('glu__L_e', 'ade_c')\n",
      "('hco3_c', 'ade_c')\n",
      "('mobd_e', 'ade_c')\n",
      "('pgp140_p', 'ade_c')\n"
     ]
    }
   ],
   "source": [
    "for pair in candidatePairs:\n",
    "    if (pair[1] not in 'h_c' and\n",
    "       pair[0] not in 'atp_c' and\n",
    "       pair[0] not in 'adp_c' and\n",
    "       pair[0] not in 'accoa_c' and\n",
    "       pair[0] not in 'fdp_c' and\n",
    "       pair[0] not in 'ade_c' and\n",
    "       pair[0] not in 'glu__L_e'):\n",
    "        print(pair)"
   ]
  },
  {
   "cell_type": "markdown",
   "metadata": {},
   "source": [
    "# Results so far\n",
    "So far I don't get any natural ordered pairs. In fact, the ones I get are direct result of the concentration constraints I imposed. For instace, in the case of h_c I put maximum concentration of 10**(-(par.pH_i - par.delta_pH) + 3) = 1e-4 mM, which is exactly the general concentration lower bound. Thus all metabolites appeared ordered with h_c. Same goes for O2. I put maximum concentration of 0.25 mM which is lower than the minimum concentration put for accoa, adp, atp and fdp and taken from Bennet et al. Therefore, so far, concentrations are unconstrained by thermodynamics! at least with respect to the order relation...\n",
    "\n",
    "# Considering adding constraints\n",
    "Perhaps we can increase the number of ordered pairs by including additional constraints, such as a minimization of the sum of concentrations or of fluxes &mdash; similar to what Teppe et al., 2013, did. That is, we want to minimize $\\sum_i {\\log{x_i}}$ and/or $\\sum_j{v_j}$.\n",
    "\n",
    "Also, I should constrain the concentration of external glucose _glu__L_e_ to the level employed in the experiments carried by Bennet et al. 2009. They used 4g.L${}^{-1}$ of glucose. Glucose as a molar mass of 180.156 g·mol${}^{−1}$ so this is equivalent to 0.0222 M or 22.20 mM.\n",
    "\n",
    "Perhaps I can constraint $\\sum_i {x_i} = 300$ mM which is a value found experimentally for internal metabolites, so exclude _glu__L_e_. This value is discussed in Tepper et al, 2013 (https://journals.plos.org/plosone/article?id=10.1371/journal.pone.0075370).\n",
    "\n",
    "Also should consider concentration of internal $H_2O$. I bet this datum is somewhere... this way I can constraint it and avoid including it within the 300 mM. Damn, but concentrations are log-transformed... so I cannot constrain them... Obviously since $\\sum_i {\\log{x_i}} \\neq \\log{\\sum_i {x_i}}$. The best I got was to set lb and ub for sum_logx, but this of course does not guarantee a constant sum_x...\n",
    "\n",
    "Well, gurobi allows to add exponential and logariyhmic constraints... don't know if practical for so many metabolites. See https://www.gurobi.com/documentation/9.0/refman/py_model_agc_exp.html or https://www.gurobi.com/documentation/9.0/refman/py_model_agc_log.html. \n",
    "\n",
    "\n",
    "Ok, so I tried exponential constraints in gurobi. It works well, although unfortunately takes a minute to solve one MILP... so not really scalable, at least on my laptop. Perhaps using log constraints instead is faster? Otherwise we can always just constraint the sum of logx..."
   ]
  },
  {
   "cell_type": "code",
   "execution_count": 39,
   "metadata": {},
   "outputs": [],
   "source": [
    "# # Check if constraints satisfied\n",
    "# values = {}\n",
    "# for var in m.getVars():\n",
    "#     if var.VarName[:2] == 'y_':\n",
    "#         rxn_id = var.VarName.replace('y_', '')\n",
    "#         v = m.getVarByName('v_' + rxn_id).x\n",
    "#         values[rxn_id] = [var.x, v]      \n",
    "# values    "
   ]
  },
  {
   "cell_type": "code",
   "execution_count": null,
   "metadata": {},
   "outputs": [],
   "source": [
    "# GEM_mets = [met.id for met in GEM.metabolites]\n",
    "# met_p, met_q = GEM_mets[0], GEM_mets[1]\n",
    "\n",
    "# obj_str = f'variables[\"logx\"][\"logx_{met_p}\"] - variables[\"logx\"][\"logx_{met_q}\"]'\n",
    "# m.setObjective(eval(obj_str), GRB.MINIMIZE)\n",
    "# m.update()\n",
    "# m.optimize()"
   ]
  },
  {
   "cell_type": "markdown",
   "metadata": {},
   "source": [
    "# Output DAG"
   ]
  },
  {
   "cell_type": "code",
   "execution_count": 23,
   "metadata": {},
   "outputs": [
    {
     "name": "stdout",
     "output_type": "stream",
     "text": [
      " \n",
      "Writing files...\n"
     ]
    }
   ],
   "source": [
    "A_plus, total_mets = buildDAGadjacencyMatrix(GEM, centralCandidatePairs)\n",
    "reduced_met_orders = removeEdgesToProton(A_plus, total_mets)\n",
    "graphData = buildGraphJSONData(GEM, total_mets, reduced_met_orders)\n",
    "writeOutputFiles(graphData)"
   ]
  },
  {
   "cell_type": "code",
   "execution_count": 22,
   "metadata": {},
   "outputs": [],
   "source": [
    "import output\n",
    "A_plus, total_mets = output.buildDAGadjacencyMatrix(GEM, centralCandidatePairs)\n",
    "reduced_met_orders = output.removeEdgesToProton(A_plus, total_mets)\n",
    "graphData = output.buildGraphJSONData(GEM, total_mets, reduced_met_orders)\n",
    "output.writeOutputFiles(graphData)"
   ]
  }
 ],
 "metadata": {
  "kernelspec": {
   "display_name": "Metabolism",
   "language": "python",
   "name": "metabolism"
  },
  "language_info": {
   "codemirror_mode": {
    "name": "ipython",
    "version": 3
   },
   "file_extension": ".py",
   "mimetype": "text/x-python",
   "name": "python",
   "nbconvert_exporter": "python",
   "pygments_lexer": "ipython3",
   "version": "3.7.4"
  }
 },
 "nbformat": 4,
 "nbformat_minor": 4
}
