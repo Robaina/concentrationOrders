{
 "cells": [
  {
   "cell_type": "markdown",
   "metadata": {},
   "source": [
    "# Metabolite concentrations follow an order relation in _Escherichia coli_\n",
    "\n",
    "\n",
    "  Several studies have shown that certain metabolites maintain an order relation in their concentrations under different steady states of \\emph{Escherichia coli} \\cite{Bennett2008,Bennett2009a}. This order relation may be the result of diverse constraints operating at steady state, such as stoichiometric, thermodynamic and growth constraints. In the following, we will derive a theoretical explanation for this ordering of concentrations.\n",
    "\n",
    "  We describe the concentration dynamics of the biochemical network with the general system,\n",
    "\n",
    "  \\begin{equation}\n",
    "    \\label{eq:1}\n",
    "    \\frac{dx_i}{dt} = \\sum_j n_{ij} v_j(x),\n",
    "  \\end{equation}\n",
    "\n",
    "  \\noindent where, $n_{ij}$ represents the stoichiometric coefficient of metabolite $i$ in reaction $j$, with $n_{ij} < 0$ if it is a substrate of the reaction, $n_{ij} > 0$ if it is a product, $x$ the metabolite concentrations and $v(x)$ the metabolic fluxes, which are a function of the metabolite concentration --- the exact form provided by the selected kinetic law. All reactions in \\ref{eq:1} are reversible, with the exception of the biomass production (pseudo)reaction, and the forward and backward direction are represented as two different reactions. Thus, the net flux of a reaction $v_j = v_j^{for} - v_j^{back}$. We assume that cells are growing at steady state, thus the flux through the biomass reaction, $v_{bio} > \\gamma v^{max}_{bio}$, with $\\gamma \\in [0, 1]$, a fraction of the theoretical maximum.\n",
    "\n",
    "  Thus far, we have determined that certain reactions are irreversible in an escenario where cells grow at steady state. Additionally, the second law of thermodynamics imposes that flux of free energy $g_j = \\Delta^{\\circ} G_j v_j < 0$ for a reaction to have non-zero flux \\cite{Kondepudi2014a}. In our case, we have already determined the direction of the reaction with the linear programs in \\ref{eq:2}, hence we only need the reaction Gibbs free energy\n",
    "\n",
    "  \\begin{equation}\n",
    "    \\label{eq:2}\n",
    "    \\Delta^{\\circ} G_j < 0,\n",
    "  \\end{equation}\n",
    "\n",
    "  \\noindent where,\n",
    "\n",
    "  \\begin{equation}\n",
    "    \\label{eq:3}\n",
    "    \\Delta^{\\circ} G_j = \\Delta^{\\circ} G_{r(j)} + RT \\sum_i n_{ij} \\log{x_i}\n",
    "  \\end{equation}\n",
    "\n",
    "  \\noindent in which $\\Delta^{\\circ} G_{r(j)} = \\sum_i n_{ij}\\Delta^{\\circ} G_{f(i)}$. Further, the energies of formation $\\Delta^{\\circ} G_{f(i)}$ of the metabolites participating in the reaction can be estimated with the component contribution method \\cite{Noor2013}."
   ]
  },
  {
   "cell_type": "code",
   "execution_count": 1,
   "metadata": {},
   "outputs": [
    {
     "name": "stdout",
     "output_type": "stream",
     "text": [
      "Downloading package metadata...\n",
      "Fragments already downloaded\n",
      "Downloading package metadata...\n",
      "Fragments already downloaded\n",
      "Using license file C:\\Users\\tinta\\gurobi.lic\n",
      "Academic license - for non-commercial use only\n",
      "Read LP format model from file C:\\Users\\tinta\\AppData\\Local\\Temp\\tmpitt8bst0.lp\n",
      "Reading time = 0.05 seconds\n",
      ": 1147 rows, 4276 columns, 17168 nonzeros\n"
     ]
    },
    {
     "data": {
      "text/html": [
       "\n",
       "        <table>\n",
       "            <tr>\n",
       "                <td><strong>Name</strong></td>\n",
       "                <td>iML1515</td>\n",
       "            </tr><tr>\n",
       "                <td><strong>Memory address</strong></td>\n",
       "                <td>0x0274bd05c848</td>\n",
       "            </tr><tr>\n",
       "                <td><strong>Number of metabolites</strong></td>\n",
       "                <td>1147</td>\n",
       "            </tr><tr>\n",
       "                <td><strong>Number of reactions</strong></td>\n",
       "                <td>2138</td>\n",
       "            </tr><tr>\n",
       "                <td><strong>Number of groups</strong></td>\n",
       "                <td>0</td>\n",
       "            </tr><tr>\n",
       "                <td><strong>Objective expression</strong></td>\n",
       "                <td>1.0*BIOMASS_Ec_iML1515_core_75p37M - 1.0*BIOMASS_Ec_iML1515_core_75p37M_reverse_35685</td>\n",
       "            </tr><tr>\n",
       "                <td><strong>Compartments</strong></td>\n",
       "                <td>cytosol, extracellular space, periplasm</td>\n",
       "            </tr>\n",
       "          </table>"
      ],
      "text/plain": [
       "<Model iML1515 at 0x274bd05c848>"
      ]
     },
     "execution_count": 1,
     "metadata": {},
     "output_type": "execute_result"
    }
   ],
   "source": [
    "from gurobipy import GRB\n",
    "from importlib import reload\n",
    "import numpy as np\n",
    "import pandas as pd\n",
    "from matplotlib import pyplot as plt\n",
    "import seaborn as sns\n",
    "import parameters as par\n",
    "import data\n",
    "import model\n",
    "import output\n",
    "reload(par)\n",
    "\n",
    "import pickle\n",
    "\n",
    "def saveToPickleFile(python_object, path_to_file='object.pkl'):\n",
    "    \"\"\"\n",
    "    Save python object to pickle file\n",
    "    \"\"\"\n",
    "    out_file = open(path_to_file,'wb')\n",
    "    pickle.dump(python_object, out_file)\n",
    "    out_file.close()\n",
    "    \n",
    "def readFromPickleFile(path_to_file='object.pkl'):\n",
    "    \"\"\"\n",
    "    Load python object from pickle file.\n",
    "    Returns python object.\n",
    "    \"\"\"\n",
    "    in_file = open(path_to_file,'rb')\n",
    "    python_object = pickle.load(in_file)\n",
    "    return python_object\n",
    "\n",
    "\n",
    "GEM = data.prepareGEM(path_to_GEM=f'{par.work_directory}/{par.model}',\n",
    "                      carbon_source=par.carbon_source,\n",
    "                      uptake_rate=par.uptake_rate,\n",
    "                      loopless=False,\n",
    "                      biomass_reaction_id=par.biomass_rxn_id)\n",
    "\n",
    "dG0_data = data.getFreeEnergyData(GEM,\n",
    "                                  work_directory=par.work_directory,\n",
    "                                  pH_i=par.pH_i,\n",
    "                                  Ionic_strength=par.Ionic_strength,\n",
    "                                  dG0_uncertainty_threshold=par.alpha)\n",
    "\n",
    "GEM"
   ]
  },
  {
   "cell_type": "markdown",
   "metadata": {},
   "source": [
    "## 2 iML1515 model and gibbs data with some examples"
   ]
  },
  {
   "cell_type": "code",
   "execution_count": 2,
   "metadata": {},
   "outputs": [
    {
     "data": {
      "text/html": [
       "\n",
       "        <table>\n",
       "            <tr>\n",
       "                <td><strong>Reaction identifier</strong></td><td>CYTDK2</td>\n",
       "            </tr><tr>\n",
       "                <td><strong>Name</strong></td><td>Cytidine kinase (GTP)</td>\n",
       "            </tr><tr>\n",
       "                <td><strong>Memory address</strong></td>\n",
       "                <td>0x022b10302f08</td>\n",
       "            </tr><tr>\n",
       "                <td><strong>Stoichiometry</strong></td>\n",
       "                <td>\n",
       "                    <p style='text-align:right'>cytd_c + gtp_c --> cmp_c + gdp_c + h_c</p>\n",
       "                    <p style='text-align:right'>Cytidine + GTP C10H12N5O14P3 --> CMP C9H12N3O8P + GDP C10H12N5O11P2 + H+</p>\n",
       "                </td>\n",
       "            </tr><tr>\n",
       "                <td><strong>GPR</strong></td><td>b2066</td>\n",
       "            </tr><tr>\n",
       "                <td><strong>Lower bound</strong></td><td>0.0</td>\n",
       "            </tr><tr>\n",
       "                <td><strong>Upper bound</strong></td><td>1000.0</td>\n",
       "            </tr>\n",
       "        </table>\n",
       "        "
      ],
      "text/plain": [
       "<Reaction CYTDK2 at 0x22b10302f08>"
      ]
     },
     "execution_count": 2,
     "metadata": {},
     "output_type": "execute_result"
    }
   ],
   "source": [
    "# Let's look at the Cytidine kinase\n",
    "rxn_id = 'CYTDK2'\n",
    "rxn = GEM.reactions.get_by_id('CYTDK2')\n",
    "rxn"
   ]
  },
  {
   "cell_type": "code",
   "execution_count": 3,
   "metadata": {},
   "outputs": [
    {
     "name": "stdout",
     "output_type": "stream",
     "text": [
      "Reaction Cytidine kinase (GTP) with dG_0 = -11.50 +/- 3.10 kJ/mmol\n"
     ]
    }
   ],
   "source": [
    "# Its estimated Gibbs free energy of reaction is\n",
    "dG0, error = dG0_data[rxn_id][\"dG0\"], dG0_data[rxn_id][\"error\"]\n",
    "print(f'Reaction {rxn.name} with dG_0 = {dG0:.2f} +/- {error:.2f} kJ/mmol')"
   ]
  },
  {
   "cell_type": "markdown",
   "metadata": {},
   "source": [
    "## 3 Constructing the MILP in Gurobi\n",
    "\n",
    "  Now, the logarithm is a monotonically increasing function, hence $\\log{x_p} > \\log{x_q} \\implies x_p > x_q$. Furthermore, we can establish if $\\log{x_p} > \\log{x_q}$ with the following convex optimization problem ($\\mathrm{OP}_1$):\n",
    " \n",
    " \n",
    "\\begin{align}\n",
    "    \\begin{aligned}\n",
    "      \\label{eq:4}\n",
    "      &v_{bio}^* = \\max_{\\substack{ \\log{x} \\in \\rm I\\!R^m, \\\\\n",
    "                            v \\in \\rm I\\!R^n_{\\geq 0}, \\\\\n",
    "                            \\Delta^{\\circ} G_{r} \\in \\rm I\\!R^k, \\\\\n",
    "                            y \\in \\{0, 1\\}^k }} \\; v_{bio}\n",
    "      \\\\\n",
    "      &\\mathrm{s.t.}\n",
    "      \\\\\n",
    "      &1.\\;Sv = 0\n",
    "      \\\\\n",
    "      &2.\\;\\Delta^{\\circ} G_{r(j)} + RT \\sum_i n_{ij} \\log{x_i} - (1 - y_j^{(+, -)})M< 0 \\; \\forall j \\in \\mathrm{R_{\\Delta^{\\circ} G_{r}}}\n",
    "      \\\\\n",
    "      &3.\\;\\Delta^{\\circ} G_{r}^{\\dagger} - \\epsilon \\leq \\Delta^{\\circ} G_{r} \\leq \\Delta^{\\circ} G_{r}^{\\dagger} + \\epsilon\n",
    "      \\\\\n",
    "      &4.\\;\\sum_i x_i \\leq \\; 300 \\,\\mathrm{mM}\n",
    "      \\\\\n",
    "      &5.\\;\\log{x}_{min} \\leq \\log{x} \\leq \\log{x}_{max}\n",
    "      \\\\\n",
    "      &6.\\;v_{min} \\leq v \\leq v_{max}\n",
    "      \\\\\n",
    "      &7.\\;v^{(+, -)}_j \\leq y_j^{(+, -)} v_{max(j)} \\; \\forall j \\in \\mathrm{R_{\\Delta^{\\circ} G_{r}}}\n",
    "      \\\\\n",
    "      &8.\\;y^+ + y^- \\leq 1\n",
    "    \\end{aligned}\n",
    "\\end{align}\n",
    "\n",
    "Here $\\mathrm{OP}_2$\n",
    "\n",
    "\n",
    "\\begin{align}\n",
    "\\begin{aligned}\n",
    "  \\label{eq:5}\n",
    "  &z = \\min_{\\substack{ \\log{x} \\in \\rm I\\!R^m, \\\\\n",
    "                        v \\in \\rm I\\!R^n_{\\geq 0}, \\\\\n",
    "                        \\Delta^{\\circ} G_{r} \\in \\rm I\\!R^k, \\\\\n",
    "                        y \\in \\{0, 1\\}^k }} \\; \\log{x_p} - \\log{x_q}\n",
    "  \\\\\n",
    "  &\\mathrm{s.t.}\n",
    "  \\\\\n",
    "  &(1-8. \\; \\mathrm{OP}_1)\n",
    "  \\\\\n",
    "  &9.\\;v_{bio} \\geq \\gamma v^*_{bio}\n",
    "\\end{aligned}\n",
    "\\end{align}\n",
    "\n",
    "__NOTE__\n",
    "What if Kms are already optimized to guarantee that metabolite concentrations that are thermodynamically feasible are already enzyme saturating? i.e., the system (or at least part of the system) has linear kinetics which are concentration independent. "
   ]
  },
  {
   "cell_type": "code",
   "execution_count": 2,
   "metadata": {},
   "outputs": [
    {
     "name": "stdout",
     "output_type": "stream",
     "text": [
      "Maximum growth rate: 0.88 h^-1\n"
     ]
    }
   ],
   "source": [
    "# Build gurobi TFBA model\n",
    "reload(par)\n",
    "m, variables = model.buildMILPModel(GEM, dG0_data)\n",
    "\n",
    "# Fix internal pH (change to mM)\n",
    "logx_h_c = variables['logx']['logx_h_c']\n",
    "logx_h_c.lb = np.log(10**(-(par.pH_i + par.delta_pH) + 3))\n",
    "logx_h_c.ub = np.log(10**(-(par.pH_i - par.delta_pH) + 3))\n",
    "\n",
    "# Upper bound to internal h2o (mM)\n",
    "logx_h2o_c = variables['logx']['logx_h2o_e']\n",
    "logx_h2o_c.ub = np.log(1e2) # mM\n",
    "\n",
    "# Upper bound to internal o2 (mM)\n",
    "logx_o2_c = variables['logx']['logx_o2_c']\n",
    "logx_o2_c.ub = np.log(par.maxo2) # mM\n",
    "\n",
    "# Fixed external glucose concentration\n",
    "logx_glu_e = variables['logx']['logx_glu__L_e']\n",
    "logx_glu_e.lb = np.log(20) # mM 22.2\n",
    "logx_glu_e.ub = np.log(23) # mM\n",
    "\n",
    "# Find biomass maximum under thermodynamic constraints and constraint biomass reaction\n",
    "m.setObjective(variables['v']['v_' + par.biomass_rxn_id], GRB.MAXIMIZE)\n",
    "m.update()\n",
    "m.setParam('OutputFlag', False)\n",
    "m.optimize()\n",
    "\n",
    "try:\n",
    "    print(f'Maximum growth rate: {m.objval:.2f} h^-1')\n",
    "    max_biomass_flux = m.getVarByName('v_' + par.biomass_rxn_id).x\n",
    "    m.getVarByName('v_' + par.biomass_rxn_id).lb = par.beta * max_biomass_flux\n",
    "except:\n",
    "    print('Model is infeasible!')"
   ]
  },
  {
   "cell_type": "code",
   "execution_count": 17,
   "metadata": {},
   "outputs": [],
   "source": [
    "# # Some sanity checks of the solution\n",
    "# conc_sum = 0\n",
    "# for var in m.getVars():\n",
    "#     if 'x_' in var.varName[:2]:\n",
    "# #         conc_sum += var.x\n",
    "# total_conc_internal_mets = conc_sum - m.getVarByName('x_glu__L_e').x\n",
    "# print(f'Total concentration of internal metabolites: {total_conc_internal_mets:.2f} mM')\n",
    "# print(f'Total sum of metabolite concentrations: {conc_sum:.2f} mM')"
   ]
  },
  {
   "cell_type": "markdown",
   "metadata": {},
   "source": [
    "## 4 Finding candidate ordered pairs\n",
    "\n",
    "\\begin{align}\n",
    "\\begin{aligned}\n",
    "  \\label{eq:10}\n",
    "  &x^* = \\mathrm{argmin}_{\\substack{ \\log{x} \\in \\rm I\\!R^m, \\\\\n",
    "                        v \\in \\rm I\\!R^n_{\\geq 0}, \\\\\n",
    "                        \\Delta^{\\circ} G_{r} \\in \\rm I\\!R^k, \\\\\n",
    "                        y \\in \\{0, 1\\}^k }} \\; \\sum_{i=1}^m {(\\epsilon^+_i + \\epsilon^-_i)}\n",
    "  \\\\\n",
    "  &\\mathrm{s.t.}\n",
    "  \\\\\n",
    "  &(1-8. \\; \\mathrm{OP}_1)\n",
    "  \\\\\n",
    "  &(9. \\; \\mathrm{OP}_2)\n",
    "  \\\\\n",
    "  &10.\\;\\epsilon^+ - \\epsilon^- = \\log{x_{rand}} - \\log{x}\n",
    "  \\\\\n",
    "  &11\\;\\epsilon^+, \\epsilon^- \\geq 0\n",
    "\\end{aligned}\n",
    "\\end{align}"
   ]
  },
  {
   "cell_type": "code",
   "execution_count": 18,
   "metadata": {},
   "outputs": [
    {
     "name": "stdout",
     "output_type": "stream",
     "text": [
      "Ellapsed time: 0:03:30.377159\n",
      "There are 3647 candidate pairs\n"
     ]
    }
   ],
   "source": [
    "# Find candidate ordered metabolite pairs\n",
    "import datetime\n",
    "reload(par)\n",
    "m.update()\n",
    "start = datetime.datetime.now()\n",
    "X_sample, candidatePairs, sampling_model = model.findCandidatePairs(m, n_samples=par.n_samples)\n",
    "end = datetime.datetime.now()\n",
    "print (f'Ellapsed time: {end - start}')\n",
    "print(f'There are {len(candidatePairs)} candidate pairs')"
   ]
  },
  {
   "cell_type": "markdown",
   "metadata": {},
   "source": [
    "### 4.2 Restricting search to central metabolism\n",
    "\n",
    "We can also look for pairs that do not involved constrained metabolites, like h_c, o_c and glu__L_c. I'm sure this will reduce the number of pairs to evaluate considerably."
   ]
  },
  {
   "cell_type": "code",
   "execution_count": 19,
   "metadata": {},
   "outputs": [
    {
     "name": "stdout",
     "output_type": "stream",
     "text": [
      "There are 287 filtered candidate pairs\n"
     ]
    }
   ],
   "source": [
    "# Remove candidate pairs involving constrained metabolites\n",
    "constrained_mets = ['h_c', 'o2_c', 'h2o_e', 'glu__L_e', 'h2o_c', \n",
    "                    'h_e', 'co2_c', 'co2_e', 'o2_e', 'h2o_p', 'o2_p', \n",
    "                    'co2_p', 'h_p', 'ppi_e', 'ppi_c', 'ppi_p', \n",
    "                    'pi_c', 'pi_e', 'pi_p']\n",
    "filtered_pairs = [pair for pair in candidatePairs \n",
    "                  if (pair[0] not in constrained_mets \n",
    "                      and pair[1] not in constrained_mets)]\n",
    "\n",
    "print(f'There are {len(filtered_pairs)} filtered candidate pairs')"
   ]
  },
  {
   "cell_type": "code",
   "execution_count": 20,
   "metadata": {},
   "outputs": [
    {
     "name": "stdout",
     "output_type": "stream",
     "text": [
      "There are 163 filtered and central candidate pairs\n"
     ]
    }
   ],
   "source": [
    "systems_df = pd.read_excel(f'{par.work_directory}/iML1515_subsystems.xlsx')\n",
    "central_metabolism = ['Carbohydrate metabolism'\n",
    "                      ,'Amino acid metabolism', 'Nucleotide metabolism',\n",
    "                       'Lipid metabolism']\n",
    "central_metabolites = data.findMetabolitesInPathways(GEM, systems_df,\n",
    "                                                     central_metabolism)\n",
    "\n",
    "centralCandidatePairs = []\n",
    "for pair in filtered_pairs:\n",
    "    met_i, met_j = pair\n",
    "    if met_i in central_metabolites and met_j in central_metabolites:\n",
    "        centralCandidatePairs.append(pair)\n",
    "\n",
    "print(f'There are {len(centralCandidatePairs)} filtered and central candidate pairs')"
   ]
  },
  {
   "cell_type": "code",
   "execution_count": 28,
   "metadata": {},
   "outputs": [],
   "source": [
    "saveToPickleFile(X_sample, 'X_sample.pkl')"
   ]
  },
  {
   "cell_type": "markdown",
   "metadata": {},
   "source": [
    "## 4.3 Evaluating candidate ordered pairs"
   ]
  },
  {
   "cell_type": "code",
   "execution_count": 21,
   "metadata": {},
   "outputs": [
    {
     "name": "stdout",
     "output_type": "stream",
     "text": [
      "Evaluating concentration-ordered pairs...\n",
      "Ellapsed time: 0:06:29.622865\n"
     ]
    }
   ],
   "source": [
    "# Evaluate metabolite orders from candidate pairs\n",
    "import datetime\n",
    "start = datetime.datetime.now()\n",
    "ordered_pairs = model.findConcentrationOrderedPairs(sampling_model, filtered_pairs)\n",
    "end = datetime.datetime.now()\n",
    "print (f'Ellapsed time: {end - start}')"
   ]
  },
  {
   "cell_type": "code",
   "execution_count": 26,
   "metadata": {},
   "outputs": [
    {
     "name": "stdout",
     "output_type": "stream",
     "text": [
      "There are 9 true ordered pairs\n"
     ]
    },
    {
     "data": {
      "text/plain": [
       "[['dhap_c', 'g3p_c', 1.0021431070183684],\n",
       " ['3pg_c', '2pg_c', 1.001611461402214],\n",
       " ['5caiz_c', '5aizc_c', 1.012661974412411],\n",
       " ['mlthf_c', '5mthf_c', 98.64911545693387],\n",
       " ['mlthf_c', 'nad_c', 98.64911545693307],\n",
       " ['g6p_c', 'f6p_c', 1.0009747501109063],\n",
       " ['gam6p_c', 'gam1p_c', 1.0035629977225256],\n",
       " ['nadh_c', '5mthf_c', 98.64911545693369],\n",
       " ['nadh_c', 'nad_c', 98.64911545693307]]"
      ]
     },
     "execution_count": 26,
     "metadata": {},
     "output_type": "execute_result"
    }
   ],
   "source": [
    "print(f'There are {len(ordered_pairs)} true ordered pairs')\n",
    "ordered_pairs"
   ]
  },
  {
   "cell_type": "code",
   "execution_count": 6,
   "metadata": {},
   "outputs": [],
   "source": [
    "# Retrieve ordered pairs from pickle files\n",
    "# import os\n",
    "# import parameters as par\n",
    "# directory=par.work_directory+'/'+par.directory+'/ordered_pairs'\n",
    "# files = os.listdir(directory)\n",
    "# ordered_pairs = []\n",
    "# for file in files:\n",
    "#     pairs = readFromPickleFile(directory+'/'+file)\n",
    "#     ordered_pairs += pairs"
   ]
  },
  {
   "cell_type": "code",
   "execution_count": 12,
   "metadata": {},
   "outputs": [],
   "source": [
    "# ordered_pairs"
   ]
  },
  {
   "cell_type": "markdown",
   "metadata": {},
   "source": [
    "## 4.4 Evaluating concentration order DAG"
   ]
  },
  {
   "cell_type": "code",
   "execution_count": 27,
   "metadata": {},
   "outputs": [
    {
     "name": "stdout",
     "output_type": "stream",
     "text": [
      " \n",
      "Writing files...\n"
     ]
    }
   ],
   "source": [
    "reload(par)\n",
    "reload(output)\n",
    "A_plus, total_mets = output.buildDAGadjacencyMatrix(GEM, ordered_pairs)\n",
    "reduced_met_orders = output.removeEdgesToProton(A_plus, total_mets)\n",
    "graphData = output.buildGraphJSONData(GEM, reduced_met_orders)\n",
    "output.writeOutputFiles(graphData)"
   ]
  },
  {
   "cell_type": "code",
   "execution_count": 9,
   "metadata": {},
   "outputs": [
    {
     "name": "stdout",
     "output_type": "stream",
     "text": [
      "Downloading package metadata...\n",
      "Fragments already downloaded\n",
      "Downloading package metadata...\n",
      "Fragments already downloaded\n",
      "Using license file C:\\Users\\tinta\\gurobi.lic\n",
      "Academic license - for non-commercial use only\n",
      "Read LP format model from file C:\\Users\\tinta\\AppData\\Local\\Temp\\tmp9qizxd21.lp\n",
      "Reading time = 0.03 seconds\n",
      ": 1147 rows, 4276 columns, 17168 nonzeros\n"
     ]
    },
    {
     "data": {
      "text/html": [
       "\n",
       "        <table>\n",
       "            <tr>\n",
       "                <td><strong>Name</strong></td>\n",
       "                <td>iML1515</td>\n",
       "            </tr><tr>\n",
       "                <td><strong>Memory address</strong></td>\n",
       "                <td>0x0219cfa7f3c8</td>\n",
       "            </tr><tr>\n",
       "                <td><strong>Number of metabolites</strong></td>\n",
       "                <td>1147</td>\n",
       "            </tr><tr>\n",
       "                <td><strong>Number of reactions</strong></td>\n",
       "                <td>2138</td>\n",
       "            </tr><tr>\n",
       "                <td><strong>Number of groups</strong></td>\n",
       "                <td>0</td>\n",
       "            </tr><tr>\n",
       "                <td><strong>Objective expression</strong></td>\n",
       "                <td>1.0*BIOMASS_Ec_iML1515_core_75p37M - 1.0*BIOMASS_Ec_iML1515_core_75p37M_reverse_35685</td>\n",
       "            </tr><tr>\n",
       "                <td><strong>Compartments</strong></td>\n",
       "                <td>cytosol, extracellular space, periplasm</td>\n",
       "            </tr>\n",
       "          </table>"
      ],
      "text/plain": [
       "<Model iML1515 at 0x219cfa7f3c8>"
      ]
     },
     "execution_count": 9,
     "metadata": {},
     "output_type": "execute_result"
    }
   ],
   "source": [
    "from gurobipy import GRB\n",
    "from importlib import reload\n",
    "import numpy as np\n",
    "import pandas as pd\n",
    "from matplotlib import pyplot as plt\n",
    "import seaborn as sns\n",
    "import parameters as par\n",
    "import data\n",
    "import model\n",
    "import output\n",
    "reload(par)\n",
    "\n",
    "GEM = data.prepareGEM(path_to_GEM=f'{par.work_directory}/{par.model}',\n",
    "                      carbon_source=par.carbon_source,\n",
    "                      uptake_rate=par.uptake_rate,\n",
    "                      loopless=False,\n",
    "                      biomass_reaction_id=par.biomass_rxn_id)\n",
    "\n",
    "# dG0_data = data.getFreeEnergyData(GEM,\n",
    "#                                   work_directory=par.work_directory,\n",
    "#                                   pH_i=par.pH_i,\n",
    "#                                   Ionic_strength=par.Ionic_strength,\n",
    "#                                   dG0_uncertainty_threshold=par.alpha)\n",
    "\n",
    "GEM"
   ]
  }
 ],
 "metadata": {
  "kernelspec": {
   "display_name": "Metabolism",
   "language": "python",
   "name": "metabolism"
  },
  "language_info": {
   "codemirror_mode": {
    "name": "ipython",
    "version": 3
   },
   "file_extension": ".py",
   "mimetype": "text/x-python",
   "name": "python",
   "nbconvert_exporter": "python",
   "pygments_lexer": "ipython3",
   "version": "3.7.4"
  }
 },
 "nbformat": 4,
 "nbformat_minor": 4
}
