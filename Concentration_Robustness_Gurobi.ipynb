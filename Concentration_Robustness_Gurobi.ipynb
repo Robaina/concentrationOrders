{
 "cells": [
  {
   "cell_type": "markdown",
   "metadata": {},
   "source": [
    "# Identifying ACR species with Gurobi\n",
    "\n",
    "In a chemical network equipped with Mass Action kinetics we define chemical species with absolute concentration robustness (ACR) as those whose concentration at steady state is independent of initial conditions. For a given chemical network with stoichiometric matrix $S$, reaction rate $v_j = K_j \\prod_i{x_i^{s_{ij}}}$ and given reaction rate constant, $K$, ranges, we can identify ACR species through the following optimization problem:\n",
    "\n",
    "\\begin{align}\n",
    "    \\begin{aligned}\n",
    "      \\label{eq:4}\n",
    "      &\\log{x_{min_i}}, \\log{x_{max_i}} = \\min,\\max_{\\substack{ \\log{x} \\in \\rm I\\!R^m, \\\\\n",
    "                            v,w,\\log{K} \\in \\rm I\\!R^n_{\\geq 0}}} \\; \\log{x_i}\n",
    "      \\\\\n",
    "      &\\mathrm{s.t.}\n",
    "      \\\\\n",
    "      &1.\\;Sv = 0\n",
    "      \\\\\n",
    "      &2.\\;w_j = \\log{v_j}\n",
    "      \\\\\n",
    "      &3.\\;w_j = \\log{K_j} + \\sum_i s_{ij} \\log{x_i}\n",
    "      \\\\\n",
    "      &4.\\;\\log{x_{min}} \\leq \\log{x} \\leq \\log{x_{max}}\n",
    "      \\\\\n",
    "      &5.\\;v_{min} \\leq v \\leq v_{max}\n",
    "      \\\\\n",
    "      &6.\\;\\log{K_{min}} \\leq \\log{K} \\leq \\log{K_{max}}\n",
    "    \\end{aligned}\n",
    "\\end{align}\n",
    "\n",
    "The key constraint here is constraint 2, in which we relate $w_j = \\log{v_j}$. This constraint is implemented in the <a href=\"www.gurobi.com\">Gurobi solver</a> with a piece-wise linear approximation of the log function, and it works quite well for large scale chemical networks. Let's try this out in a genome scale metabolic model of _Escherichia coli_. We will find ACR species without any additional constraint and for any positive values of parameters $K$."
   ]
  },
  {
   "cell_type": "code",
   "execution_count": 1,
   "metadata": {},
   "outputs": [
    {
     "name": "stdout",
     "output_type": "stream",
     "text": [
      "Using license file C:\\Users\\tinta\\gurobi.lic\n",
      "Academic license - for non-commercial use only\n",
      "Read LP format model from file C:\\Users\\tinta\\AppData\\Local\\Temp\\tmpwu0t9xjb.lp\n",
      "Reading time = 0.05 seconds\n",
      ": 1147 rows, 4276 columns, 17168 nonzeros\n"
     ]
    },
    {
     "data": {
      "text/html": [
       "\n",
       "        <table>\n",
       "            <tr>\n",
       "                <td><strong>Name</strong></td>\n",
       "                <td>iML1515</td>\n",
       "            </tr><tr>\n",
       "                <td><strong>Memory address</strong></td>\n",
       "                <td>0x022b27004a48</td>\n",
       "            </tr><tr>\n",
       "                <td><strong>Number of metabolites</strong></td>\n",
       "                <td>1147</td>\n",
       "            </tr><tr>\n",
       "                <td><strong>Number of reactions</strong></td>\n",
       "                <td>2138</td>\n",
       "            </tr><tr>\n",
       "                <td><strong>Number of groups</strong></td>\n",
       "                <td>0</td>\n",
       "            </tr><tr>\n",
       "                <td><strong>Objective expression</strong></td>\n",
       "                <td>1.0*BIOMASS_Ec_iML1515_core_75p37M - 1.0*BIOMASS_Ec_iML1515_core_75p37M_reverse_35685</td>\n",
       "            </tr><tr>\n",
       "                <td><strong>Compartments</strong></td>\n",
       "                <td>cytosol, extracellular space, periplasm</td>\n",
       "            </tr>\n",
       "          </table>"
      ],
      "text/plain": [
       "<Model iML1515 at 0x22b27004a48>"
      ]
     },
     "execution_count": 1,
     "metadata": {},
     "output_type": "execute_result"
    }
   ],
   "source": [
    "from gurobipy import GRB\n",
    "from importlib import reload\n",
    "import numpy as np\n",
    "import pandas as pd\n",
    "# from matplotlib import pyplot as plt\n",
    "# import seaborn as sns\n",
    "import parameters as par\n",
    "import GEM_model\n",
    "import gurobi_model\n",
    "\n",
    "GEM = GEM_model.prepareGEM(path_to_GEM=f'{par.work_directory}/{par.model}',\n",
    "                      carbon_source=par.carbon_source,\n",
    "                      uptake_rate=par.uptake_rate,\n",
    "                      loopless=False,\n",
    "                      biomass_reaction_id=par.biomass_rxn_id)\n",
    "GEM"
   ]
  },
  {
   "cell_type": "markdown",
   "metadata": {},
   "source": [
    "## Some notes on results\n",
    "Ok, so the idea was cool. Unfortunately, Gurobi is way to slow to solve this problem. Adding log constraints is fine I don't add the mass-action constraint $Sv=0$. However, requiring steady state plus $w = \\log{v}$ is apparently too much to ask..."
   ]
  },
  {
   "cell_type": "code",
   "execution_count": null,
   "metadata": {},
   "outputs": [
    {
     "name": "stdout",
     "output_type": "stream",
     "text": [
      "Parameter OutputFlag unchanged\n",
      "   Value: 1  Min: 0  Max: 1  Default: 1\n",
      "dhap_c\n",
      "Gurobi Optimizer version 9.0.1 build v9.0.1rc0 (win64)\n",
      "Optimize a model with 3265 rows, 7561 columns and 16990 nonzeros\n",
      "Model fingerprint: 0x7746b3f5\n",
      "Model has 2138 general constraints\n",
      "Variable types: 7561 continuous, 0 integer (0 binary)\n",
      "Coefficient statistics:\n",
      "  Matrix range     [2e-06, 8e+01]\n",
      "  Objective range  [1e+00, 1e+00]\n",
      "  Bounds range     [5e+00, 1e+03]\n",
      "  RHS range        [0e+00, 0e+00]\n",
      "Presolve added 5356 rows and 214051 columns\n",
      "Presolve time: 2.61s\n",
      "Presolved: 8621 rows, 221612 columns, 645760 nonzeros\n",
      "Presolved model has 2089 SOS constraint(s)\n",
      "Variable types: 221610 continuous, 2 integer (2 binary)\n",
      "\n",
      "Root simplex log...\n",
      "\n",
      "Iteration    Objective       Primal Inf.    Dual Inf.      Time\n",
      "    5109   -1.8418401e+01   3.417450e+04   0.000000e+00      5s\n",
      "    7089   -1.8418044e+01   1.043956e+04   0.000000e+00     10s\n",
      "    9129   -1.8417688e+01   3.769330e+03   0.000000e+00     15s\n",
      "   11229   -1.8417458e+01   2.474846e+02   0.000000e+00     20s\n",
      "   11366   -1.8420681e+01   0.000000e+00   0.000000e+00     20s\n",
      "\n",
      "Root relaxation: objective -1.842068e+01, 11366 iterations, 17.51 seconds\n",
      "\n",
      "    Nodes    |    Current Node    |     Objective Bounds      |     Work\n",
      " Expl Unexpl |  Obj  Depth IntInf | Incumbent    BestBd   Gap | It/Node Time\n",
      "\n",
      "     0     0  -18.42068    0  352          -  -18.42068      -     -   22s\n",
      "     0     0  -18.42068    0  352          -  -18.42068      -     -   22s\n",
      "     0     2  -18.42068    0  352          -  -18.42068      -     -   24s\n",
      "     3     2  -18.42068    2  352          -  -18.42068      -  11.0   25s\n",
      "    21     4  -18.42068   11  383          -  -18.42068      -   216   30s\n",
      "    35     8  -18.42068   14  414          -  -18.42068      -   174   39s\n",
      "    37    10  -18.42068   14  403          -  -18.42068      -   268   40s\n",
      "    56    32  -18.42068   19  419          -  -18.42068      -   211   48s\n",
      "    65    52  -18.42068   22  406          -  -18.42068      -   228   53s\n",
      "    87    96  -18.42068   31  399          -  -18.42068      -   226   60s\n"
     ]
    },
    {
     "ename": "KeyboardInterrupt",
     "evalue": "",
     "output_type": "error",
     "traceback": [
      "\u001b[1;31m---------------------------------------------------------------------------\u001b[0m",
      "\u001b[1;31mKeyboardInterrupt\u001b[0m                         Traceback (most recent call last)",
      "\u001b[1;32m~\\AppData\\Local\\Programs\\Python\\Python37\\lib\\site-packages\\ipykernel\\iostream.py\u001b[0m in \u001b[0;36mwrite\u001b[1;34m(self, string)\u001b[0m\n\u001b[0;32m    383\u001b[0m \u001b[1;33m\u001b[0m\u001b[0m\n\u001b[0;32m    384\u001b[0m     \u001b[1;32mdef\u001b[0m \u001b[0mwrite\u001b[0m\u001b[1;33m(\u001b[0m\u001b[0mself\u001b[0m\u001b[1;33m,\u001b[0m \u001b[0mstring\u001b[0m\u001b[1;33m)\u001b[0m\u001b[1;33m:\u001b[0m\u001b[1;33m\u001b[0m\u001b[1;33m\u001b[0m\u001b[0m\n\u001b[1;32m--> 385\u001b[1;33m         \u001b[1;32mif\u001b[0m \u001b[0mself\u001b[0m\u001b[1;33m.\u001b[0m\u001b[0mecho\u001b[0m \u001b[1;32mis\u001b[0m \u001b[1;32mnot\u001b[0m \u001b[1;32mNone\u001b[0m\u001b[1;33m:\u001b[0m\u001b[1;33m\u001b[0m\u001b[1;33m\u001b[0m\u001b[0m\n\u001b[0m\u001b[0;32m    386\u001b[0m             \u001b[1;32mtry\u001b[0m\u001b[1;33m:\u001b[0m\u001b[1;33m\u001b[0m\u001b[1;33m\u001b[0m\u001b[0m\n\u001b[0;32m    387\u001b[0m                 \u001b[0mself\u001b[0m\u001b[1;33m.\u001b[0m\u001b[0mecho\u001b[0m\u001b[1;33m.\u001b[0m\u001b[0mwrite\u001b[0m\u001b[1;33m(\u001b[0m\u001b[0mstring\u001b[0m\u001b[1;33m)\u001b[0m\u001b[1;33m\u001b[0m\u001b[1;33m\u001b[0m\u001b[0m\n",
      "\u001b[1;31mKeyboardInterrupt\u001b[0m: "
     ]
    },
    {
     "name": "stderr",
     "output_type": "stream",
     "text": [
      "Exception ignored in: 'gurobipy.logcallbackstub'\n",
      "Traceback (most recent call last):\n",
      "  File \"C:\\Users\\tinta\\AppData\\Local\\Programs\\Python\\Python37\\lib\\site-packages\\ipykernel\\iostream.py\", line 385, in write\n",
      "    if self.echo is not None:\n",
      "KeyboardInterrupt\n"
     ]
    },
    {
     "name": "stdout",
     "output_type": "stream",
     "text": [
      "   253   293  -18.42068   79  377          -  -18.42068      -   136   91s\n",
      "   358   359  -18.42068  107  364          -  -18.42068      -   136  105s\n",
      "   432   448  -18.42068  128  378          -  -18.42068      -   147  126s\n",
      "   535   519  -18.42068  151  378          -  -18.42068      -   155  153s\n",
      "   622   561  -18.42068  181  377          -  -18.42068      -   175  172s\n",
      "   672   651  -18.42068  194  387          -  -18.42068      -   177  194s\n",
      "   783   652  -18.42068   64    0          -  -18.42068      -   185  196s\n",
      "   785   653  -18.42068   94    0          -  -18.42068      -   185  220s\n",
      "   816   651  -18.42068   29  343          -  -18.42068      -  17.3  225s\n",
      "   836   670  -18.42068   34  352          -  -18.42068      -  22.0  230s\n",
      "   848   681  -18.42068   37  362          -  -18.42068      -  22.5  235s\n",
      "   877   720  -18.42068   41  348          -  -18.42068      -  30.0  246s\n",
      "   919   769  -18.42068   51  352          -  -18.42068      -  34.1  260s\n",
      "   990   808  -18.42068   75  330          -  -18.42068      -  43.5  283s\n",
      "  1057   896  -18.42068   91  339          -  -18.42068      -  54.3  301s\n",
      "  1175   968  -18.42068  119  329          -  -18.42068      -  67.1  318s\n",
      "  1293  1015  -18.42068  149  332          -  -18.42068      -  76.7  339s\n",
      "  1393  1042 infeasible  183               -  -18.42068      -  86.6  364s\n",
      "  1477  1139  -18.42068   46  337          -  -18.42068      -  98.7  390s\n",
      "  1622  1231  -18.42068   82  341          -  -18.42068      -   104  415s\n",
      "  1789  1316  -18.42068  119  329          -  -18.42068      -   111  439s\n"
     ]
    }
   ],
   "source": [
    "reload(par)\n",
    "reload(gurobi_model)\n",
    "lp_model, variables = gurobi_model.buildLPModel(GEM)\n",
    "logx_optimum = {}\n",
    "for met in GEM.metabolites:\n",
    "    print(met.id)\n",
    "    logx_optimum[met.id] = {}\n",
    "    \n",
    "    lp_model.setObjective(variables['logx'][f'logx_{met.id}'], GRB.MINIMIZE)\n",
    "    lp_model.update()\n",
    "    lp_model.optimize()\n",
    "    logx_optimum[met.id]['min'] = lp_model.objval\n",
    "    \n",
    "    \n",
    "    lp_model.setObjective(variables['logx'][f'logx_{met.id}'], GRB.MAXIMIZE)\n",
    "    lp_model.update()\n",
    "    lp_model.optimize()\n",
    "    logx_optimum[met.id]['max'] = lp_model.objval\n",
    "    "
   ]
  },
  {
   "cell_type": "code",
   "execution_count": null,
   "metadata": {},
   "outputs": [],
   "source": []
  }
 ],
 "metadata": {
  "kernelspec": {
   "display_name": "Metabolism",
   "language": "python",
   "name": "metabolism"
  },
  "language_info": {
   "codemirror_mode": {
    "name": "ipython",
    "version": 3
   },
   "file_extension": ".py",
   "mimetype": "text/x-python",
   "name": "python",
   "nbconvert_exporter": "python",
   "pygments_lexer": "ipython3",
   "version": "3.7.4"
  }
 },
 "nbformat": 4,
 "nbformat_minor": 4
}
