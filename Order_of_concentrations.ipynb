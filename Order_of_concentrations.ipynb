{
 "cells": [
  {
   "cell_type": "markdown",
   "metadata": {},
   "source": [
    "### Computing the Gibbs free energy with equilibrator-api"
   ]
  },
  {
   "cell_type": "code",
   "execution_count": 1,
   "metadata": {},
   "outputs": [],
   "source": [
    "from equilibrator_api import ComponentContribution, Reaction, ReactionMatcher\n",
    "import numpy as np\n",
    "import pandas as pd\n",
    "import cobra\n",
    "from cobra.flux_analysis.variability import flux_variability_analysis\n",
    "import cvxopt\n",
    "import json\n",
    "# Load equilibrator data\n",
    "eq_api = ComponentContribution(pH=7.5, ionic_strength=0.25)  # loads data"
   ]
  },
  {
   "cell_type": "code",
   "execution_count": 2,
   "metadata": {},
   "outputs": [
    {
     "data": {
      "text/html": [
       "<div>\n",
       "<style scoped>\n",
       "    .dataframe tbody tr th:only-of-type {\n",
       "        vertical-align: middle;\n",
       "    }\n",
       "\n",
       "    .dataframe tbody tr th {\n",
       "        vertical-align: top;\n",
       "    }\n",
       "\n",
       "    .dataframe thead th {\n",
       "        text-align: right;\n",
       "    }\n",
       "</style>\n",
       "<table border=\"1\" class=\"dataframe\">\n",
       "  <thead>\n",
       "    <tr style=\"text-align: right;\">\n",
       "      <th></th>\n",
       "      <th>formula</th>\n",
       "    </tr>\n",
       "    <tr>\n",
       "      <th>bigg.reaction</th>\n",
       "      <th></th>\n",
       "    </tr>\n",
       "  </thead>\n",
       "  <tbody>\n",
       "    <tr>\n",
       "      <th>ex_14glucan_e</th>\n",
       "      <td>C00718 &lt;=&gt;</td>\n",
       "    </tr>\n",
       "    <tr>\n",
       "      <th>ex_fe3hox_e</th>\n",
       "      <td>C06227 &lt;=&gt;</td>\n",
       "    </tr>\n",
       "    <tr>\n",
       "      <th>ex_mobd_e</th>\n",
       "      <td>C06232 &lt;=&gt;</td>\n",
       "    </tr>\n",
       "    <tr>\n",
       "      <th>14glucanabcpp</th>\n",
       "      <td>C00001 + C00002 + C00718 &lt;=&gt; C00008 + C00009</td>\n",
       "    </tr>\n",
       "    <tr>\n",
       "      <th>14glucantexi</th>\n",
       "      <td>&lt;=&gt; C00718</td>\n",
       "    </tr>\n",
       "  </tbody>\n",
       "</table>\n",
       "</div>"
      ],
      "text/plain": [
       "                                                    formula\n",
       "bigg.reaction                                              \n",
       "ex_14glucan_e                                   C00718 <=> \n",
       "ex_fe3hox_e                                     C06227 <=> \n",
       "ex_mobd_e                                       C06232 <=> \n",
       "14glucanabcpp  C00001 + C00002 + C00718 <=> C00008 + C00009\n",
       "14glucantexi                                     <=> C00718"
      ]
     },
     "execution_count": 2,
     "metadata": {},
     "output_type": "execute_result"
    }
   ],
   "source": [
    "# Get iJO1366 reactions as KEGG reaction strings\n",
    "iJO1366ToKEGG = pd.read_csv(r'C:\\Users\\tinta\\OneDrive\\Documents\\Projects\\Ordering_of_Concentrations\\equilibrator-api\\src\\equilibrator_api\\data\\iJO1366_reactions.csv',\n",
    "                           index_col=0)\n",
    "iJO1366ToKEGG.head()"
   ]
  },
  {
   "cell_type": "code",
   "execution_count": 3,
   "metadata": {},
   "outputs": [
    {
     "name": "stdout",
     "output_type": "stream",
     "text": [
      "dG0' = -38.5 ± 2.8 kJ/mol\n",
      "\n"
     ]
    }
   ],
   "source": [
    "# You control the pH and ionic strength!\n",
    "# ionic strength is in Molar units.\n",
    "rxn_name = '23pde2pp'\n",
    "rxn = Reaction.parse_formula(iJO1366ToKEGG.loc[rxn_name].item())\n",
    "dG0_prime, dG0_uncertainty = eq_api.dG0_prime(rxn)\n",
    "print(\"dG0' = %.1f \\u00B1 %.1f kJ/mol\\n\" % (dG0_prime, dG0_uncertainty))"
   ]
  },
  {
   "cell_type": "code",
   "execution_count": 3,
   "metadata": {},
   "outputs": [],
   "source": [
    "iJO1366 = cobra.io.load_json_model('iJO1366.json')\n",
    "# Make internal reactions reversible\n",
    "\n",
    "# remove blocked reactions\n",
    "blockedRxns = cobra.flux_analysis.find_blocked_reactions(\n",
    "    iJO1366, zero_cutoff=1e-9, open_exchanges=False)\n",
    "\n",
    "for rxn in blockedRxns:\n",
    "    iJO1366.reactions.get_by_id(rxn).remove_from_model(remove_orphans=True)\n",
    "    \n",
    "iJO1366_rxns = [rxn.id.lower() for rxn in iJO1366.reactions]"
   ]
  },
  {
   "cell_type": "code",
   "execution_count": null,
   "metadata": {},
   "outputs": [],
   "source": [
    "\n",
    "    def __enableUptakeOfCarbonSources(self):\n",
    "        if self.name == 'iJO1366':\n",
    "            self.GEM.reactions.get_by_id('EX_glyc__R_e').lower_bound = -1000\n",
    "            self.GEM.reactions.get_by_id('EX_ac_e').lower_bound = -1000\n",
    "            \n",
    "            \n",
    "                def updateExchangeReactionBounds(self, carbonSource=None, carbonUptakeRate=20):\n",
    "        \"\"\"\n",
    "        Update exchange reaction bounds to simulate appropriate growth medium\n",
    "        conditions.\n",
    "        \"\"\"\n",
    "        if self.name == 'iJO1366':\n",
    "            ExchangeRxnIDs = [rxn.id for rxn in self.GEM.exchanges if len(rxn.reactants) == 0]\n",
    "            for ID in ExchangeRxnIDs:\n",
    "                try:\n",
    "                    if self.__isOrganicExchange(ID):\n",
    "                        self.GEM.reactions.get_by_id(ID).upper_bound = 0\n",
    "                except Exception:\n",
    "                    pass\n",
    "            self.__setEcoliCarbonSourceUptake(carbonSource, carbonUptakeRate)\n",
    "            self.carbonSource = carbonSource\n",
    "        else:\n",
    "            if carbonSource is not None:\n",
    "                warnings.warn('Carbon source selection only available for model iJO1366')\n",
    "            if self.name == 'EvAraModel':\n",
    "                sucroseUptake = 'EX_cpd00076_e0_reverse'\n",
    "                self.GEM.reactions.get_by_id(sucroseUptake).upper_bound = carbonUptakeRate\n",
    "            else:\n",
    "                warnings.warn('Only implemented for iJO1366 and EvAraModel')\n",
    "\n",
    "    def __isOrganicExchange(self, ID):\n",
    "        compoundAtoms = list(self.GEM.reactions.get_by_id(ID).products[0].formula)\n",
    "        cond = (('C' in compoundAtoms)\n",
    "                & ('H' in compoundAtoms)\n",
    "                & ('o' not in compoundAtoms))  # discards cobalamine\n",
    "        return cond\n",
    "\n",
    "    def __setEcoliCarbonSourceUptake(self, carbonSource, carbonUptakeRate):\n",
    "        \"\"\"\n",
    "        Set uptake rate for the selected carbon source for the E. coli model (iJO1366)\n",
    "        \"\"\"\n",
    "        carbonSource = carbonSource.lower()\n",
    "        if carbonSource in 'glucose':\n",
    "            uptakeRxns = ['EX_glc__D_e_reverse']\n",
    "        elif carbonSource in 'acetate':\n",
    "            uptakeRxns = ['EX_ac_e_reverse']\n",
    "        elif carbonSource in 'glycerate':\n",
    "            uptakeRxns = ['EX_glyc__R_e_reverse']\n",
    "        elif carbonSource in 'all':\n",
    "            uptakeRxns = ['EX_glc__D_e_reverse', 'EX_ac_e_reverse', 'EX_glyc__R_e_reverse']\n",
    "        for rxn in uptakeRxns:\n",
    "            self.GEM.reactions.get_by_id(rxn).upper_bound = carbonUptakeRate\n",
    "            \n",
    "            \n",
    "            \n",
    "        self.GEM.objective = self.GEM.reactions.get_by_any(ReactionID)\n",
    "        vbioMax = self.GEM.optimize().objective_value\n",
    "        print('Maximum growth rate: ' + str(vbioMax) + ' h^{-1}')\n"
   ]
  },
  {
   "cell_type": "code",
   "execution_count": 4,
   "metadata": {},
   "outputs": [],
   "source": [
    "# Prepare dictionary with dG0\n",
    "rxnGibbs = {}\n",
    "for rxn_id in iJO1366_rxns:\n",
    "    try:\n",
    "        rxn = Reaction.parse_formula(iJO1366ToKEGG.loc[rxn_id].item())\n",
    "        dG0_prime, dG0_uncertainty = eq_api.dG0_prime(rxn)\n",
    "        rxnGibbs[rxn_id] = [dG0_prime, dG0_uncertainty]\n",
    "    except Exception:\n",
    "        pass"
   ]
  },
  {
   "cell_type": "code",
   "execution_count": 6,
   "metadata": {},
   "outputs": [
    {
     "data": {
      "text/plain": [
       "427"
      ]
     },
     "execution_count": 6,
     "metadata": {},
     "output_type": "execute_result"
    }
   ],
   "source": [
    "len(rxnGibbs)"
   ]
  },
  {
   "cell_type": "code",
   "execution_count": null,
   "metadata": {},
   "outputs": [],
   "source": []
  },
  {
   "cell_type": "code",
   "execution_count": 5,
   "metadata": {},
   "outputs": [],
   "source": [
    "# Constants\n",
    "# dG0 in kJ/mol\n",
    "R = 8.3144598 * 1e-3 # kJ. K^-1. mol^-1\n",
    "T = 310.15 # K"
   ]
  },
  {
   "cell_type": "markdown",
   "metadata": {},
   "source": [
    "## Find irreversible reactions under growth on glucose"
   ]
  },
  {
   "cell_type": "code",
   "execution_count": 6,
   "metadata": {},
   "outputs": [
    {
     "data": {
      "text/html": [
       "<div>\n",
       "<style scoped>\n",
       "    .dataframe tbody tr th:only-of-type {\n",
       "        vertical-align: middle;\n",
       "    }\n",
       "\n",
       "    .dataframe tbody tr th {\n",
       "        vertical-align: top;\n",
       "    }\n",
       "\n",
       "    .dataframe thead th {\n",
       "        text-align: right;\n",
       "    }\n",
       "</style>\n",
       "<table border=\"1\" class=\"dataframe\">\n",
       "  <thead>\n",
       "    <tr style=\"text-align: right;\">\n",
       "      <th></th>\n",
       "      <th>minimum</th>\n",
       "      <th>maximum</th>\n",
       "    </tr>\n",
       "  </thead>\n",
       "  <tbody>\n",
       "    <tr>\n",
       "      <th>DM_4crsol_c</th>\n",
       "      <td>0.0002</td>\n",
       "      <td>0.0002</td>\n",
       "    </tr>\n",
       "    <tr>\n",
       "      <th>DM_5drib_c</th>\n",
       "      <td>0.0002</td>\n",
       "      <td>0.0002</td>\n",
       "    </tr>\n",
       "    <tr>\n",
       "      <th>DM_amob_c</th>\n",
       "      <td>0.0000</td>\n",
       "      <td>0.0000</td>\n",
       "    </tr>\n",
       "    <tr>\n",
       "      <th>DM_mththf_c</th>\n",
       "      <td>0.0004</td>\n",
       "      <td>0.0004</td>\n",
       "    </tr>\n",
       "    <tr>\n",
       "      <th>DM_oxam_c</th>\n",
       "      <td>0.0000</td>\n",
       "      <td>-0.0000</td>\n",
       "    </tr>\n",
       "  </tbody>\n",
       "</table>\n",
       "</div>"
      ],
      "text/plain": [
       "             minimum  maximum\n",
       "DM_4crsol_c   0.0002   0.0002\n",
       "DM_5drib_c    0.0002   0.0002\n",
       "DM_amob_c     0.0000   0.0000\n",
       "DM_mththf_c   0.0004   0.0004\n",
       "DM_oxam_c     0.0000  -0.0000"
      ]
     },
     "execution_count": 6,
     "metadata": {},
     "output_type": "execute_result"
    }
   ],
   "source": [
    "# Might be necessary to use the loopless option to avoid the inclusion of\n",
    "# thermodynamically infeasible loops which could render the LP infeasible\n",
    "# fva = flux_variability_analysis(iJO1366, fraction_of_optimum=0.75,\n",
    "#                                loopless=True, processes=2).round(decimals=4)\n",
    "# fva.head()\n",
    "\n",
    "fva = pd.read_csv('iJO1366fva.csv', index_col=0)\n",
    "fva.head()"
   ]
  },
  {
   "cell_type": "code",
   "execution_count": 7,
   "metadata": {},
   "outputs": [],
   "source": [
    "# loop over fva limits\n",
    "Irr_rxns = {}\n",
    "for rxn_id in fva.index:\n",
    "    v_min, v_max = fva.loc[rxn_id].minimum, fva.loc[rxn_id].maximum\n",
    "    if v_min < 0 and v_max <= 0:\n",
    "        Irr_rxns[rxn_id.lower()] = 'backward'\n",
    "    elif v_min >= 0 and v_max > 0:\n",
    "        Irr_rxns[rxn_id.lower()] = 'forward'"
   ]
  },
  {
   "cell_type": "code",
   "execution_count": 8,
   "metadata": {},
   "outputs": [
    {
     "name": "stdout",
     "output_type": "stream",
     "text": [
      "There are 2485 metabolite pairs\n"
     ]
    }
   ],
   "source": [
    "# Get stoichiometric matrix (irreversible reactions with Gibb's energy data)\n",
    "GEM = iJO1366.copy()\n",
    "\n",
    "def notIrreversibleWithGibbsEnergy(rxn):\n",
    "    uncertainty_threshold = alpha = 0.25\n",
    "    rxn_id = rxn.id.lower()\n",
    "    cond = ( (rxn_id not in Irr_rxns.keys())\n",
    "            or (rxn_id in Irr_rxns.keys() and rxn_id not in rxnGibbs.keys())\n",
    "            or (rxn_id in rxnGibbs.keys() \n",
    "                and rxnGibbs[rxn_id][1] > alpha * rxnGibbs[rxn_id][0]) )\n",
    "    return cond\n",
    "\n",
    "for rxn in iJO1366.reactions:\n",
    "    if notIrreversibleWithGibbsEnergy(rxn):\n",
    "        GEM.reactions.get_by_id(rxn.id).remove_from_model(remove_orphans=False)\n",
    "\n",
    "N = cobra.util.array.create_stoichiometric_matrix(GEM, array_type='dense')\n",
    "Irr_rxns_with_dG0 = [rxn.id.lower() for rxn in GEM.reactions]\n",
    "N_Irr = pd.DataFrame(data=N, index=[met.id for met in GEM.metabolites],\n",
    "                     columns=Irr_rxns_with_dG0)\n",
    "\n",
    "# Remove orphan metabolites (no reaction)\n",
    "for met in N_Irr.index:\n",
    "    if sum(abs(N_Irr.loc[met])) == 0:\n",
    "        N_Irr = N_Irr.drop(met, axis=0)\n",
    "\n",
    "# Change direction of backward reactions\n",
    "for rxn in N_Irr.columns:\n",
    "    if Irr_rxns[rxn] == 'backward':\n",
    "        N_Irr[rxn] *= -1\n",
    "        N_Irr.rename(columns={rxn: rxn + '_back'}, inplace=True)\n",
    "\n",
    "N_met_pairs = int(0.5 * len(N_Irr.index) * (len(N_Irr.index) - 1))\n",
    "print('There are ' + str(N_met_pairs) + ' metabolite pairs')"
   ]
  },
  {
   "cell_type": "markdown",
   "metadata": {},
   "source": [
    "## Prepare linear program"
   ]
  },
  {
   "cell_type": "code",
   "execution_count": 14,
   "metadata": {},
   "outputs": [],
   "source": [
    "# Build LP (fixed components) \n",
    "\n",
    "# Standard in cvxopt is Ax <= b so have to change signs and add epsilon to rhs\n",
    "n_rxns, n_mets = N_Irr.values.transpose().shape\n",
    "\n",
    "# Bounds\n",
    "x_min, x_max = 1e-8, 2e-1 # molar\n",
    "logx_min = (np.log(x_min)) * np.ones((n_mets, 1))\n",
    "logx_max = (np.log(x_max)) * np.ones((n_mets, 1))\n",
    "\n",
    "# Construct vectors: dG0min, dG0max\n",
    "dG0min = dG0max = np.zeros((n_rxns, 1))\n",
    "for i, rxn in enumerate(Irr_rxns_with_dG0):\n",
    "    dG0_i, dG0_error_i = rxnGibbs[rxn]\n",
    "    dG0min[i] = dG0_i - dG0_error_i\n",
    "    dG0max[i] = dG0_i + dG0_error_i\n",
    "\n",
    "Gibbs_eps = 1e-6\n",
    "A0 = np.hstack((N_Irr.values.transpose(), (1 / (R*T)) * np.identity(n_rxns)))\n",
    "A1 = np.hstack((np.zeros((n_rxns, n_mets)), -np.identity(n_rxns)))\n",
    "A2 = np.hstack((np.zeros((n_rxns, n_mets)), np.identity(n_rxns)))\n",
    "A3 = np.hstack((-np.identity(n_mets), np.zeros((n_mets, n_rxns))))\n",
    "A4 = np.hstack((np.identity(n_mets), np.zeros((n_mets, n_rxns))))\n",
    "\n",
    "A = cvxopt.matrix(np.vstack((A0, A1, A2, A3, A4)))\n",
    "b = cvxopt.matrix(np.vstack((-Gibbs_eps * np.ones((n_rxns, 1)),\n",
    "                             -dG0min, dG0max,\n",
    "                             -logx_min, logx_max)))\n",
    "\n",
    "# Eliminate messages\n",
    "# cvxopt.solvers.options['glpk'] = {'msg_lev': 'GLP_MSG_OFF'} \n",
    "\n",
    "# Start iteration over metabolite pairs (variable components)\n",
    "met_orders = []\n",
    "for p in range(n_mets):\n",
    "    for q in range(n_mets):\n",
    "        if p != q:\n",
    "            c = np.zeros(n_mets + n_rxns)\n",
    "            c[[p, q]] = [1, -1]\n",
    "            c = cvxopt.matrix(c)\n",
    "\n",
    "            res = cvxopt.solvers.lp(c, A, b, solver='glpk',\n",
    "                                    options={'glpk':{'msg_lev':'GLP_MSG_OFF'}})\n",
    "            z = res['primal objective']\n",
    "            if z > 0:\n",
    "                met_i, met_j = N_Irr.index[[p, q]]\n",
    "                min_ratio = np.e**z\n",
    "                met_orders.append([met_i, met_j, min_ratio])"
   ]
  },
  {
   "cell_type": "code",
   "execution_count": 11,
   "metadata": {},
   "outputs": [
    {
     "data": {
      "text/plain": [
       "[['3odcoa_c', '13dpg_c', 2.562942217671523],\n",
       " ['3odcoa_c', 'ac_c', 2.5629422176715186],\n",
       " ['3odcoa_c', 'accoa_c', 1.3303536033469967],\n",
       " ['3odcoa_c', 'actp_c', 56.57509098306293],\n",
       " ['3odcoa_c', 'fadh2_c', 56.57509098306293]]"
      ]
     },
     "execution_count": 11,
     "metadata": {},
     "output_type": "execute_result"
    }
   ],
   "source": [
    "met_orders[:5]"
   ]
  },
  {
   "cell_type": "markdown",
   "metadata": {},
   "source": [
    "## Create the transitive reduction of the graph with Networkx"
   ]
  },
  {
   "cell_type": "code",
   "execution_count": 13,
   "metadata": {},
   "outputs": [
    {
     "data": {
      "text/plain": [
       "[['3odcoa_c', '13dpg_c', 2.562942217671523],\n",
       " ['3odcoa_c', 'ac_c', 2.5629422176715186],\n",
       " ['3odcoa_c', 'accoa_c', 1.3303536033469967],\n",
       " ['3odcoa_c', 'actp_c', 56.57509098306293],\n",
       " ['3odcoa_c', 'fadh2_c', 56.57509098306293]]"
      ]
     },
     "execution_count": 13,
     "metadata": {},
     "output_type": "execute_result"
    }
   ],
   "source": [
    "import networkx as nx\n",
    "\n",
    "# Build full graph adjacency matrix\n",
    "total_mets = np.unique(\n",
    "    np.array([[met_pairs[0], met_pairs[1]] for met_pairs in met_orders]).flatten()).tolist()\n",
    "N_nodes = len(total_mets)\n",
    "\n",
    "A = np.zeros((N_nodes, N_nodes))\n",
    "for met_pair in met_orders:\n",
    "    i, j = total_mets.index(met_pair[0]), total_mets.index(met_pair[1])\n",
    "    A[i, j] = met_pair[2]\n",
    "\n",
    "# Get transitive reduction of the graph\n",
    "G = nx.from_numpy_matrix(A, create_using=nx.DiGraph())\n",
    "G_plus = nx.transitive_reduction(G)\n",
    "\n",
    "# Get adjacency matrix of the transitive reduction\n",
    "# A_plus = nx.adjacency_matrix(G)\n",
    "A_plus = nx.to_numpy_matrix(G)\n",
    "\n",
    "# Get list of edges\n",
    "reduced_met_orders = []\n",
    "for i in range(N_nodes):\n",
    "    for j in range(N_nodes):\n",
    "        met_ratio = A_plus[i, j]\n",
    "        if met_ratio > 1:\n",
    "            reduced_met_orders.append([total_mets[i], total_mets[j], met_ratio])\n",
    "\n",
    "reduced_met_orders[:5]"
   ]
  },
  {
   "cell_type": "code",
   "execution_count": 17,
   "metadata": {},
   "outputs": [],
   "source": [
    "df = pd.DataFrame(data=reduced_met_orders)\n",
    "reduced_met_orders = "
   ]
  },
  {
   "cell_type": "markdown",
   "metadata": {},
   "source": [
    "## Prepare JSON file for Cytoscape.js"
   ]
  },
  {
   "cell_type": "code",
   "execution_count": 14,
   "metadata": {},
   "outputs": [],
   "source": [
    "# Build data dictionary\n",
    "data = {}\n",
    "data['nodes'] = []\n",
    "data['edges'] = []\n",
    "\n",
    "for met in total_mets:\n",
    "    data['nodes'].append(\n",
    "    {\n",
    "        'data': {\n",
    "            'id': met,\n",
    "            'label': met,\n",
    "            'name': iJO1366.metabolites.get_by_id(met).name\n",
    "        }\n",
    "    })\n",
    "\n",
    "for met_pairs in reduced_met_orders:\n",
    "    data['edges'].append(\n",
    "    {\n",
    "        'data': {\n",
    "            'id': met_pairs[0] + '_' + met_pairs[1],\n",
    "            'source': met_pairs[0],\n",
    "            'target': met_pairs[1],\n",
    "            'label': str(np.round(met_pairs[2], 2))\n",
    "        }\n",
    "    })\n",
    "\n",
    "# write to json\n",
    "with open('data/conditions/graphData.json', 'w') as outfile:  \n",
    "    json.dump(data, outfile)"
   ]
  },
  {
   "cell_type": "code",
   "execution_count": null,
   "metadata": {},
   "outputs": [],
   "source": []
  }
 ],
 "metadata": {
  "kernelspec": {
   "display_name": "Python 3",
   "language": "python",
   "name": "python3"
  },
  "language_info": {
   "codemirror_mode": {
    "name": "ipython",
    "version": 3
   },
   "file_extension": ".py",
   "mimetype": "text/x-python",
   "name": "python",
   "nbconvert_exporter": "python",
   "pygments_lexer": "ipython3",
   "version": "3.6.5"
  }
 },
 "nbformat": 4,
 "nbformat_minor": 2
}
